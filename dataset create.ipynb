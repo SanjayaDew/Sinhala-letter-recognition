{
 "cells": [
  {
   "cell_type": "code",
   "execution_count": 1,
   "id": "f6d7d524-4119-4a2a-a4c0-36f5239fb881",
   "metadata": {
    "jupyter": {
     "source_hidden": true
    }
   },
   "outputs": [],
   "source": [
    "import os\n",
    "import numpy as np\n",
    "\n",
    "data_path='dataset'\n",
    "\n",
    "categories=os.listdir(data_path)\n",
    "#print(categories)\n",
    "labels=[i for i in range(len(categories))]\n",
    "#print(labels)\n",
    "category_dict={'a':0, 'ae':1, 'e':2, 'u':3}\n",
    "#print(category_dict)"
   ]
  },
  {
   "cell_type": "code",
   "execution_count": 2,
   "id": "1024664a-5221-487a-90ba-6f8be601a9d5",
   "metadata": {},
   "outputs": [
    {
     "name": "stdout",
     "output_type": "stream",
     "text": [
      "a --------------------------------------------\n",
      "ae --------------------------------------------\n",
      "e --------------------------------------------\n",
      "u --------------------------------------------\n"
     ]
    }
   ],
   "source": [
    "import cv2\n",
    "\n",
    "data=[]\n",
    "target=[]\n",
    "\n",
    "for category in categories:\n",
    "    imgs_path=os.path.join(data_path,category)\n",
    "    img_names=os.listdir(imgs_path)\n",
    "    #print(imgs_path,img_names)\n",
    "    print(category,'--------------------------------------------')\n",
    "    for img_name in img_names:\n",
    "        img_path=os.path.join(imgs_path,img_name)\n",
    "        #print(img_path)\n",
    "        img=cv2.imread(img_path,0)\n",
    "        img=cv2.resize(img,(8,8))\n",
    "        data.append(img)\n",
    "        target.append(category_dict[category])\n",
    "        #cv2.imshow('LIVE',img)\n",
    "        #k=cv2.waitKey(100)\n",
    "        #if(k==27):\n",
    "            #break\n",
    "#cv2.destroyAllWindows()\n",
    "        "
   ]
  },
  {
   "cell_type": "code",
   "execution_count": 3,
   "id": "513c6fbc-3cd0-4260-b218-8353feca53db",
   "metadata": {},
   "outputs": [
    {
     "name": "stdout",
     "output_type": "stream",
     "text": [
      "270 270\n"
     ]
    }
   ],
   "source": [
    "print(len(data),len(target))"
   ]
  },
  {
   "cell_type": "code",
   "execution_count": 4,
   "id": "988deaf4-2c18-4bf2-b117-c76e29de5c59",
   "metadata": {},
   "outputs": [
    {
     "data": {
      "text/plain": [
       "<matplotlib.image.AxesImage at 0x1567f712c10>"
      ]
     },
     "execution_count": 4,
     "metadata": {},
     "output_type": "execute_result"
    },
    {
     "data": {
      "image/png": "[encoded data removed]",
      "text/plain": [
       "<Figure size 640x480 with 1 Axes>"
      ]
     },
     "metadata": {},
     "output_type": "display_data"
    }
   ],
   "source": [
    "from matplotlib import pyplot as plt\n",
    "\n",
    "plt.imshow(data[10],cmap='gray')"
   ]
  },
  {
   "cell_type": "code",
   "execution_count": 5,
   "id": "a9859eb5-8d7d-48be-841a-04f6b1338340",
   "metadata": {},
   "outputs": [
    {
     "data": {
      "text/plain": [
       "array([[255, 255, 255, 255, 255, 255, 255, 255],\n",
       "       [255, 255, 255, 255, 255, 255, 255, 255],\n",
       "       [  0,   0, 255, 255,   6, 255,   0, 255],\n",
       "       [255, 255, 255,   0,   0,   0,   0, 255],\n",
       "       [255, 255,  95, 255, 255,   0, 255,  46],\n",
       "       [255, 255, 255, 255, 255,   0, 255, 255],\n",
       "       [255, 255, 255, 255, 255,   0, 255, 255],\n",
       "       [255, 255, 255, 255, 255, 255, 255, 255]], dtype=uint8)"
      ]
     },
     "execution_count": 5,
     "metadata": {},
     "output_type": "execute_result"
    }
   ],
   "source": [
    "data[10]"
   ]
  },
  {
   "cell_type": "code",
   "execution_count": 6,
   "id": "19c97869-b96e-4bb3-99a5-7f9e03621efa",
   "metadata": {},
   "outputs": [
    {
     "data": {
      "text/plain": [
       "0"
      ]
     },
     "execution_count": 6,
     "metadata": {},
     "output_type": "execute_result"
    }
   ],
   "source": [
    "target[10]"
   ]
  },
  {
   "cell_type": "code",
   "execution_count": 7,
   "id": "1d941c14-1600-4b7b-9957-2c687510e617",
   "metadata": {},
   "outputs": [
    {
     "name": "stdout",
     "output_type": "stream",
     "text": [
      "before resize: (270, 8, 8)\n"
     ]
    }
   ],
   "source": [
    "data=np.array(data)\n",
    "print('before resize:',data.shape)"
   ]
  },
  {
   "cell_type": "code",
   "execution_count": 8,
   "id": "52c8b2f2-73fe-468b-a4cc-e68091d0b007",
   "metadata": {},
   "outputs": [
    {
     "name": "stdout",
     "output_type": "stream",
     "text": [
      "before resize: (270,)\n"
     ]
    }
   ],
   "source": [
    "target=np.array(target)\n",
    "print('before resize:',target.shape)"
   ]
  },
  {
   "cell_type": "code",
   "execution_count": 9,
   "id": "f4de9d5f-8eb2-4c02-a689-eb21f5032515",
   "metadata": {},
   "outputs": [
    {
     "name": "stdout",
     "output_type": "stream",
     "text": [
      "before resize: (270, 8, 8)\n",
      "after resize: (270, 64)\n"
     ]
    }
   ],
   "source": [
    "data=np.array(data)\n",
    "print('before resize:',data.shape)\n",
    "data=data.reshape(data.shape[0],data.shape[1]*data.shape[2])\n",
    "#data=data.reshape(270,8*8)\n",
    "print('after resize:',data.shape)\n",
    "target=np.array(target)\n",
    "\n",
    "np.save('data',data)\n",
    "np.save('target',target)"
   ]
  },
  {
   "cell_type": "code",
   "execution_count": 10,
   "id": "479d516d-0b21-4732-ab05-a7f60934087c",
   "metadata": {},
   "outputs": [
    {
     "name": "stdout",
     "output_type": "stream",
     "text": [
      "(270,)\n"
     ]
    }
   ],
   "source": [
    "print(target.shape)"
   ]
  },
  {
   "cell_type": "code",
   "execution_count": 11,
   "id": "00220452-5329-4ea3-a1f7-1365909d7b4e",
   "metadata": {},
   "outputs": [
    {
     "name": "stdout",
     "output_type": "stream",
     "text": [
      "[0 0 0 0 0 0 0 0 0 0 0 0 0 0 0 0 0 0 0 0 0 0 0 0 0 0 0 0 0 0 0 0 0 0 0 0 0\n",
      " 0 0 0 0 0 0 0 0 0 0 0 0 0 0 0 0 0 0 0 0 0 0 0 0 0 0 0 0 0 0 0 0 0 0 1 1 1\n",
      " 1 1 1 1 1 1 1 1 1 1 1 1 1 1 1 1 1 1 1 1 1 1 1 1 1 1 1 1 1 1 1 1 1 1 1 1 1\n",
      " 1 1 1 1 1 1 1 1 1 1 1 1 1 1 1 1 1 1 1 1 1 1 1 1 2 2 2 2 2 2 2 2 2 2 2 2 2\n",
      " 2 2 2 2 2 2 2 2 2 2 2 2 2 2 2 2 2 2 2 2 2 2 2 2 2 2 2 2 2 2 2 2 2 2 2 2 2\n",
      " 2 2 2 2 2 2 2 2 2 2 2 2 2 2 2 2 2 2 2 2 2 3 3 3 3 3 3 3 3 3 3 3 3 3 3 3 3\n",
      " 3 3 3 3 3 3 3 3 3 3 3 3 3 3 3 3 3 3 3 3 3 3 3 3 3 3 3 3 3 3 3 3 3 3 3 3 3\n",
      " 3 3 3 3 3 3 3 3 3 3 3]\n"
     ]
    }
   ],
   "source": [
    "print(target)"
   ]
  },
  {
   "cell_type": "code",
   "execution_count": null,
   "id": "fff3ad6c-0710-4b43-8b33-53b34578cea2",
   "metadata": {},
   "outputs": [],
   "source": []
  }
 ],
 "metadata": {
  "kernelspec": {
   "display_name": "Python 3 (ipykernel)",
   "language": "python",
   "name": "python3"
  },
  "language_info": {
   "codemirror_mode": {
    "name": "ipython",
    "version": 3
   },
   "file_extension": ".py",
   "mimetype": "text/x-python",
   "name": "python",
   "nbconvert_exporter": "python",
   "pygments_lexer": "ipython3",
   "version": "3.11.9"
  }
 },
 "nbformat": 4,
 "nbformat_minor": 5
}
